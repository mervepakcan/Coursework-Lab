{
  "nbformat": 4,
  "nbformat_minor": 0,
  "metadata": {
    "colab": {
      "provenance": []
    },
    "kernelspec": {
      "name": "python3",
      "display_name": "Python 3"
    },
    "language_info": {
      "name": "python"
    }
  },
  "cells": [
    {
      "cell_type": "code",
      "execution_count": 9,
      "metadata": {
        "id": "kGRMhouoz_ty",
        "colab": {
          "base_uri": "https://localhost:8080/"
        },
        "outputId": "9f2983cb-729b-485f-d55d-a61ded0e5be2"
      },
      "outputs": [
        {
          "output_type": "stream",
          "name": "stdout",
          "text": [
            "Warning: Some expected frequencies are less than 5. Consider merging intervals.\n",
            "Fail to reject the null hypothesis: The data may follow an exponential distribution.\n"
          ]
        }
      ],
      "source": [
        "import numpy as np\n",
        "import pandas as pd\n",
        "from scipy.stats import chi2, expon\n",
        "#First Question The χ2 goodness-of-fit test\n",
        "# Reading the file as a multi-column dataset with spaces as delimiters, then flatten to a single column\n",
        "data = pd.read_csv('spam.txt', header=None, delimiter=\"\\s+\", dtype=float).stack().reset_index(drop=True)\n",
        "\n",
        "# Ensuring there are no NaN values and calculating mean for exponential parameter\n",
        "if data.isna().any():\n",
        "    raise ValueError(\"Data contains NaN values.\")\n",
        "mean_spam = data.mean()\n",
        "rate = 1 / mean_spam  # Lambda for exponential distribution\n",
        "\n",
        "# Defining intervals and calculating observed counts\n",
        "intervals = np.histogram_bin_edges(data, bins='auto')\n",
        "observed_counts, _ = np.histogram(data, bins=intervals)\n",
        "\n",
        "# Calculating expected counts for each interval based on the exponential distribution\n",
        "expected_counts = [(expon.cdf(intervals[i + 1], scale=mean_spam) - expon.cdf(intervals[i], scale=mean_spam)) * len(data)\n",
        "                   for i in range(len(intervals) - 1)]\n",
        "expected_counts = np.array(expected_counts)\n",
        "\n",
        "# Checking if any expected frequency is below 5, as a warning\n",
        "if np.any(expected_counts < 5):\n",
        "    print(\"Warning: Some expected frequencies are less than 5. Consider merging intervals.\")\n",
        "\n",
        "# Calculating chi-square statistic\n",
        "chi_square_stat = np.sum((observed_counts - expected_counts) ** 2 / expected_counts)\n",
        "df = len(observed_counts) - 1  # Degrees of freedom\n",
        "chi_critical = chi2.ppf(0.99, df)  # Critical value at 1% significance\n",
        "\n",
        "# Conclusion\n",
        "if chi_square_stat > chi_critical:\n",
        "    print(\"Reject the null hypothesis: The data does not follow an exponential distribution.\")\n",
        "else:\n",
        "    print(\"Fail to reject the null hypothesis: The data may follow an exponential distribution.\")"
      ]
    }
  ]
}