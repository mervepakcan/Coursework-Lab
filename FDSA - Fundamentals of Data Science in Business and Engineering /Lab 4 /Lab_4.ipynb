{
  "nbformat": 4,
  "nbformat_minor": 0,
  "metadata": {
    "colab": {
      "provenance": []
    },
    "kernelspec": {
      "name": "python3",
      "display_name": "Python 3"
    },
    "language_info": {
      "name": "python"
    }
  },
  "cells": [
    {
      "cell_type": "code",
      "execution_count": 3,
      "metadata": {
        "colab": {
          "base_uri": "https://localhost:8080/"
        },
        "id": "-0vqacO9wYyk",
        "outputId": "54b1313a-765d-43eb-eff1-09dc5b16afb1"
      },
      "outputs": [
        {
          "output_type": "stream",
          "name": "stdout",
          "text": [
            "                                            Name PClass    Age     Sex  \\\n",
            "0                   Allen, Miss Elisabeth Walton    1st  29.00  female   \n",
            "1                    Allison, Miss Helen Loraine    1st   2.00  female   \n",
            "2            Allison, Mr Hudson Joshua Creighton    1st  30.00    male   \n",
            "3  Allison, Mrs Hudson JC (Bessie Waldo Daniels)    1st  25.00  female   \n",
            "4                  Allison, Master Hudson Trevor    1st   0.92    male   \n",
            "\n",
            "   Survived  \n",
            "0         1  \n",
            "1         0  \n",
            "2         0  \n",
            "3         0  \n",
            "4         1  \n",
            "Contingency Table for Survival and Passenger Class:\n",
            " PClass    1st  2nd  3rd\n",
            "Survived               \n",
            "0         129  161  573\n",
            "1         193  119  138\n",
            "Chi-square Statistic: 172.29911827411786\n",
            "p-value: 3.852315502424536e-38\n",
            "Degrees of Freedom: 2\n",
            "Expected Frequencies:\n",
            "[[211.64204113 184.0365575  467.32140137]\n",
            " [110.35795887  95.9634425  243.67859863]]\n",
            "Reject the null hypothesis: Evidence that survival depends on passenger class.\n",
            "Contingency Table for Survival and Gender :\n",
            " Sex       female  male\n",
            "Survived              \n",
            "0            154   709\n",
            "1            308   142\n",
            "Chi-square Statistic: 329.8419924652638\n",
            "p-value: 1.0404030919650888e-73\n",
            "Degrees of Freedom: 1\n",
            "Expected Frequencies:\n",
            "[[303.66031988 559.33968012]\n",
            " [158.33968012 291.66031988]]\n",
            "Reject the null hypothesis (H0): Evidence that survival depends on gender.\n"
          ]
        }
      ],
      "source": [
        "import pandas as pd\n",
        "from scipy.stats import chi2_contingency\n",
        "#variable description: Survived\t\t1 = Yes, 0 = No\n",
        "# Please upload titanic.txt file to files in the left side. Select the content folder and upload the file there so that the file path in the code below works.\n",
        "# Loading the dataset\n",
        "file_path = pd.read_csv('/content/titanic.txt', delimiter='\\t')  # Because of tab-delimited text, used '\\t'\n",
        "\n",
        "# Displaying the first few rows to understand the structure of the dataset\n",
        "print(file_path.head())\n",
        "\n",
        "# Assessing survival by passenger class\n",
        "# Creating a contingency table for Survival and Passenger Class\n",
        "contingency_table_pc = pd.crosstab(file_path['Survived'], file_path['PClass'])\n",
        "print(\"Contingency Table for Survival and Passenger Class:\\n\", contingency_table_pc)\n",
        "\n",
        "# Defining Hypotheses according to lab file\n",
        "# Null Hypothesis (H0): Survival is independent of passenger class.\n",
        "# Alternative Hypothesis (H1): Survival is dependent on passenger class.\n",
        "\n",
        "# Performing the Chi-square test\n",
        "# We do chi-square test to determine if there is a significant association between two categorical variables which are passenger class and survival status.\n",
        "chi2_stat_passclass, p_value_passclass, dof_passclass, expected_passclass = chi2_contingency(contingency_table_pc)\n",
        "print(f\"Chi-square Statistic: {chi2_stat_passclass}\")\n",
        "print(f\"p-value: {p_value_passclass}\")\n",
        "print(f\"Degrees of Freedom: {dof_passclass}\")\n",
        "print(f\"Expected Frequencies:\\n{expected_passclass}\")\n",
        "\n",
        "# Result\n",
        "alpha = 0.05  # significance level\n",
        "if p_value_passclass < alpha :\n",
        "    print(\"Reject the null hypothesis: Evidence that survival depends on passenger class.\")\n",
        "else:\n",
        "    print(\"Fail to reject the null hypothesis: No evidence that survival depends on passenger class.\")\n",
        "\n",
        "# Assessing survival by gender\n",
        "contingency_table_gender = pd.crosstab(file_path['Survived'], file_path['Sex'])\n",
        "print(\"Contingency Table for Survival and Gender :\\n\", contingency_table_gender)\n",
        "\n",
        "# Defining Hypotheses for gender\n",
        "# Null Hypothesis (H0): Survival is independent of gender.\n",
        "# Alternative Hypothesis (H1): Survival is dependent on gender.\n",
        "\n",
        "# Performing the Chi-square test for gender and survival\n",
        "chi2_stat_gender, p_value_gender, dof_gender, expected_gender = chi2_contingency(contingency_table_gender)\n",
        "print(f\"Chi-square Statistic: {chi2_stat_gender}\")\n",
        "print(f\"p-value: {p_value_gender}\")\n",
        "print(f\"Degrees of Freedom: {dof_gender}\")\n",
        "print(f\"Expected Frequencies:\\n{expected_gender}\")\n",
        "\n",
        "#Result\n",
        "if p_value_gender < alpha:\n",
        "    print(\"Reject the null hypothesis (H0): Evidence that survival depends on gender.\")\n",
        "else:\n",
        "    print(\"Fail to reject the null hypothesis (H0): No evidence that survival depends on gender.\")\n",
        "\n",
        "#Observations\n",
        "# If the p-value is less than the chosen significance level (commonly 0.05), will be rejected H0  and support H1. If it is greater, will fail to reject H0.\n",
        "# The t-test and z-test, suitable for continuous data, are unnecessary here since gender and class are categorical; instead, the chi-square test appropriately examines differences in categorical distributions.\n",
        "# A significant association exists between passenger class and survival, with a chi-square statistic of 172.30 and a p-value < 0.001, indicating survival is dependent on passenger class.\n",
        "# The first class had a higher survival rate compared to second and third classes\n",
        "# A strong association is evident between gender and survival, with a chi-square statistic of 329.84 and a p-value < 0.001, showing that survival is dependent on gender\n",
        "# Females had a notably higher survival rate compared to males"
      ]
    }
  ]
}